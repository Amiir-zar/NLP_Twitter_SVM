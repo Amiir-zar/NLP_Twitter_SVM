{
 "cells": [
  {
   "attachments": {},
   "cell_type": "markdown",
   "metadata": {},
   "source": [
    "**Importing Dependencies**\n",
    "\n",
    "\n",
    "We shall start by importing all the neccessary libraries."
   ]
  },
  {
   "cell_type": "code",
   "execution_count": 1,
   "metadata": {},
   "outputs": [
    {
     "name": "stderr",
     "output_type": "stream",
     "text": [
      "2023-01-23 11:00:05.547033: I tensorflow/core/platform/cpu_feature_guard.cc:193] This TensorFlow binary is optimized with oneAPI Deep Neural Network Library (oneDNN) to use the following CPU instructions in performance-critical operations:  AVX2 FMA\n",
      "To enable them in other operations, rebuild TensorFlow with the appropriate compiler flags.\n",
      "[nltk_data] Downloading package stopwords to\n",
      "[nltk_data]     /Users/amirzar/nltk_data...\n",
      "[nltk_data]   Package stopwords is already up-to-date!\n"
     ]
    }
   ],
   "source": [
    "import matplotlib.pyplot as plt\n",
    "import seaborn as sns\n",
    "import pandas as pd\n",
    "import numpy as np\n",
    "\n",
    "import nltk \n",
    "nltk.download('stopwords')\n",
    "from nltk.corpus import stopwords\n",
    "from nltk.stem import SnowballStemmer\n",
    "\n",
    "from sklearn.model_selection import train_test_split\n",
    "from sklearn.preprocessing import LabelEncoder\n",
    "\n",
    "import re"
   ]
  },
  {
   "cell_type": "code",
   "execution_count": 42,
   "metadata": {},
   "outputs": [
    {
     "data": {
      "text/html": [
       "<div>\n",
       "<style scoped>\n",
       "    .dataframe tbody tr th:only-of-type {\n",
       "        vertical-align: middle;\n",
       "    }\n",
       "\n",
       "    .dataframe tbody tr th {\n",
       "        vertical-align: top;\n",
       "    }\n",
       "\n",
       "    .dataframe thead th {\n",
       "        text-align: right;\n",
       "    }\n",
       "</style>\n",
       "<table border=\"1\" class=\"dataframe\">\n",
       "  <thead>\n",
       "    <tr style=\"text-align: right;\">\n",
       "      <th></th>\n",
       "      <th>sentiment</th>\n",
       "      <th>id</th>\n",
       "      <th>date</th>\n",
       "      <th>query</th>\n",
       "      <th>user_id</th>\n",
       "      <th>text</th>\n",
       "    </tr>\n",
       "  </thead>\n",
       "  <tbody>\n",
       "    <tr>\n",
       "      <th>1096384</th>\n",
       "      <td>4</td>\n",
       "      <td>1970309098</td>\n",
       "      <td>Sat May 30 03:19:43 PDT 2009</td>\n",
       "      <td>NO_QUERY</td>\n",
       "      <td>joannetoh</td>\n",
       "      <td>gg to Adidas Sundown Marathon now!</td>\n",
       "    </tr>\n",
       "    <tr>\n",
       "      <th>144957</th>\n",
       "      <td>0</td>\n",
       "      <td>1882094675</td>\n",
       "      <td>Fri May 22 06:13:12 PDT 2009</td>\n",
       "      <td>NO_QUERY</td>\n",
       "      <td>CranberryBlue</td>\n",
       "      <td>Last day....  and  !!!!!!</td>\n",
       "    </tr>\n",
       "    <tr>\n",
       "      <th>322910</th>\n",
       "      <td>0</td>\n",
       "      <td>2004736060</td>\n",
       "      <td>Tue Jun 02 08:39:46 PDT 2009</td>\n",
       "      <td>NO_QUERY</td>\n",
       "      <td>lisadawnjoy</td>\n",
       "      <td>sitting at a computer during my 3rd period spa...</td>\n",
       "    </tr>\n",
       "    <tr>\n",
       "      <th>446807</th>\n",
       "      <td>0</td>\n",
       "      <td>2068525298</td>\n",
       "      <td>Sun Jun 07 14:13:53 PDT 2009</td>\n",
       "      <td>NO_QUERY</td>\n",
       "      <td>MiDesfileNegro</td>\n",
       "      <td>@WOAHAmber If I could afford international rat...</td>\n",
       "    </tr>\n",
       "    <tr>\n",
       "      <th>174990</th>\n",
       "      <td>0</td>\n",
       "      <td>1964703792</td>\n",
       "      <td>Fri May 29 14:39:59 PDT 2009</td>\n",
       "      <td>NO_QUERY</td>\n",
       "      <td>Sims_Galore</td>\n",
       "      <td>awww  Lukes been evicted from the Quiz</td>\n",
       "    </tr>\n",
       "    <tr>\n",
       "      <th>...</th>\n",
       "      <td>...</td>\n",
       "      <td>...</td>\n",
       "      <td>...</td>\n",
       "      <td>...</td>\n",
       "      <td>...</td>\n",
       "      <td>...</td>\n",
       "    </tr>\n",
       "    <tr>\n",
       "      <th>151635</th>\n",
       "      <td>0</td>\n",
       "      <td>1932559816</td>\n",
       "      <td>Tue May 26 21:43:06 PDT 2009</td>\n",
       "      <td>NO_QUERY</td>\n",
       "      <td>kimravia</td>\n",
       "      <td>@Rove1974 aww poor lizard  be careful it might...</td>\n",
       "    </tr>\n",
       "    <tr>\n",
       "      <th>1214517</th>\n",
       "      <td>4</td>\n",
       "      <td>1989453849</td>\n",
       "      <td>Mon Jun 01 01:36:01 PDT 2009</td>\n",
       "      <td>NO_QUERY</td>\n",
       "      <td>TYTWATTER</td>\n",
       "      <td>Bring on the tequila</td>\n",
       "    </tr>\n",
       "    <tr>\n",
       "      <th>708162</th>\n",
       "      <td>0</td>\n",
       "      <td>2257219460</td>\n",
       "      <td>Sat Jun 20 13:59:31 PDT 2009</td>\n",
       "      <td>NO_QUERY</td>\n",
       "      <td>trobinson82</td>\n",
       "      <td>Ew...starbucks you continue to disappoint</td>\n",
       "    </tr>\n",
       "    <tr>\n",
       "      <th>35240</th>\n",
       "      <td>0</td>\n",
       "      <td>1565128347</td>\n",
       "      <td>Mon Apr 20 05:58:37 PDT 2009</td>\n",
       "      <td>NO_QUERY</td>\n",
       "      <td>HellOfABlackHat</td>\n",
       "      <td>My buddy list is toast.</td>\n",
       "    </tr>\n",
       "    <tr>\n",
       "      <th>443745</th>\n",
       "      <td>0</td>\n",
       "      <td>2067639924</td>\n",
       "      <td>Sun Jun 07 12:42:02 PDT 2009</td>\n",
       "      <td>NO_QUERY</td>\n",
       "      <td>AMYFACE_</td>\n",
       "      <td>dyed my hair, it's like blacky-red, love it bu...</td>\n",
       "    </tr>\n",
       "  </tbody>\n",
       "</table>\n",
       "<p>320000 rows × 6 columns</p>\n",
       "</div>"
      ],
      "text/plain": [
       "         sentiment          id                          date     query  \\\n",
       "1096384          4  1970309098  Sat May 30 03:19:43 PDT 2009  NO_QUERY   \n",
       "144957           0  1882094675  Fri May 22 06:13:12 PDT 2009  NO_QUERY   \n",
       "322910           0  2004736060  Tue Jun 02 08:39:46 PDT 2009  NO_QUERY   \n",
       "446807           0  2068525298  Sun Jun 07 14:13:53 PDT 2009  NO_QUERY   \n",
       "174990           0  1964703792  Fri May 29 14:39:59 PDT 2009  NO_QUERY   \n",
       "...            ...         ...                           ...       ...   \n",
       "151635           0  1932559816  Tue May 26 21:43:06 PDT 2009  NO_QUERY   \n",
       "1214517          4  1989453849  Mon Jun 01 01:36:01 PDT 2009  NO_QUERY   \n",
       "708162           0  2257219460  Sat Jun 20 13:59:31 PDT 2009  NO_QUERY   \n",
       "35240            0  1565128347  Mon Apr 20 05:58:37 PDT 2009  NO_QUERY   \n",
       "443745           0  2067639924  Sun Jun 07 12:42:02 PDT 2009  NO_QUERY   \n",
       "\n",
       "                 user_id                                               text  \n",
       "1096384        joannetoh                gg to Adidas Sundown Marathon now!   \n",
       "144957     CranberryBlue                          Last day....  and  !!!!!!  \n",
       "322910       lisadawnjoy  sitting at a computer during my 3rd period spa...  \n",
       "446807    MiDesfileNegro  @WOAHAmber If I could afford international rat...  \n",
       "174990       Sims_Galore            awww  Lukes been evicted from the Quiz   \n",
       "...                  ...                                                ...  \n",
       "151635          kimravia  @Rove1974 aww poor lizard  be careful it might...  \n",
       "1214517        TYTWATTER                              Bring on the tequila   \n",
       "708162       trobinson82         Ew...starbucks you continue to disappoint   \n",
       "35240    HellOfABlackHat                           My buddy list is toast.   \n",
       "443745          AMYFACE_  dyed my hair, it's like blacky-red, love it bu...  \n",
       "\n",
       "[320000 rows x 6 columns]"
      ]
     },
     "execution_count": 42,
     "metadata": {},
     "output_type": "execute_result"
    }
   ],
   "source": [
    "tweet_data = pd.read_csv('Labled_tweets.csv', names=['sentiment', 'id', 'date', 'query', 'user_id', 'text'],encoding=\"ISO-8859-1\") #shuffles the data\n",
    "tweet_data"
   ]
  },
  {
   "cell_type": "code",
   "execution_count": 43,
   "metadata": {},
   "outputs": [
    {
     "data": {
      "text/html": [
       "<div>\n",
       "<style scoped>\n",
       "    .dataframe tbody tr th:only-of-type {\n",
       "        vertical-align: middle;\n",
       "    }\n",
       "\n",
       "    .dataframe tbody tr th {\n",
       "        vertical-align: top;\n",
       "    }\n",
       "\n",
       "    .dataframe thead th {\n",
       "        text-align: right;\n",
       "    }\n",
       "</style>\n",
       "<table border=\"1\" class=\"dataframe\">\n",
       "  <thead>\n",
       "    <tr style=\"text-align: right;\">\n",
       "      <th></th>\n",
       "      <th>text</th>\n",
       "      <th>sentiment</th>\n",
       "    </tr>\n",
       "  </thead>\n",
       "  <tbody>\n",
       "    <tr>\n",
       "      <th>1096384</th>\n",
       "      <td>gg to Adidas Sundown Marathon now!</td>\n",
       "      <td>4</td>\n",
       "    </tr>\n",
       "    <tr>\n",
       "      <th>144957</th>\n",
       "      <td>Last day....  and  !!!!!!</td>\n",
       "      <td>0</td>\n",
       "    </tr>\n",
       "    <tr>\n",
       "      <th>322910</th>\n",
       "      <td>sitting at a computer during my 3rd period spa...</td>\n",
       "      <td>0</td>\n",
       "    </tr>\n",
       "    <tr>\n",
       "      <th>446807</th>\n",
       "      <td>@WOAHAmber If I could afford international rat...</td>\n",
       "      <td>0</td>\n",
       "    </tr>\n",
       "    <tr>\n",
       "      <th>174990</th>\n",
       "      <td>awww  Lukes been evicted from the Quiz</td>\n",
       "      <td>0</td>\n",
       "    </tr>\n",
       "    <tr>\n",
       "      <th>...</th>\n",
       "      <td>...</td>\n",
       "      <td>...</td>\n",
       "    </tr>\n",
       "    <tr>\n",
       "      <th>151635</th>\n",
       "      <td>@Rove1974 aww poor lizard  be careful it might...</td>\n",
       "      <td>0</td>\n",
       "    </tr>\n",
       "    <tr>\n",
       "      <th>1214517</th>\n",
       "      <td>Bring on the tequila</td>\n",
       "      <td>4</td>\n",
       "    </tr>\n",
       "    <tr>\n",
       "      <th>708162</th>\n",
       "      <td>Ew...starbucks you continue to disappoint</td>\n",
       "      <td>0</td>\n",
       "    </tr>\n",
       "    <tr>\n",
       "      <th>35240</th>\n",
       "      <td>My buddy list is toast.</td>\n",
       "      <td>0</td>\n",
       "    </tr>\n",
       "    <tr>\n",
       "      <th>443745</th>\n",
       "      <td>dyed my hair, it's like blacky-red, love it bu...</td>\n",
       "      <td>0</td>\n",
       "    </tr>\n",
       "  </tbody>\n",
       "</table>\n",
       "<p>320000 rows × 2 columns</p>\n",
       "</div>"
      ],
      "text/plain": [
       "                                                      text  sentiment\n",
       "1096384                gg to Adidas Sundown Marathon now!           4\n",
       "144957                           Last day....  and  !!!!!!          0\n",
       "322910   sitting at a computer during my 3rd period spa...          0\n",
       "446807   @WOAHAmber If I could afford international rat...          0\n",
       "174990             awww  Lukes been evicted from the Quiz           0\n",
       "...                                                    ...        ...\n",
       "151635   @Rove1974 aww poor lizard  be careful it might...          0\n",
       "1214517                              Bring on the tequila           4\n",
       "708162          Ew...starbucks you continue to disappoint           0\n",
       "35240                             My buddy list is toast.           0\n",
       "443745   dyed my hair, it's like blacky-red, love it bu...          0\n",
       "\n",
       "[320000 rows x 2 columns]"
      ]
     },
     "execution_count": 43,
     "metadata": {},
     "output_type": "execute_result"
    }
   ],
   "source": [
    "## we only need two columns for sentiment anlysis\n",
    "tweet_text = tweet_data[['text','sentiment']]\n",
    "tweet_text"
   ]
  },
  {
   "cell_type": "code",
   "execution_count": 47,
   "metadata": {},
   "outputs": [
    {
     "name": "stderr",
     "output_type": "stream",
     "text": [
      "/var/folders/gy/scg9c9b176sck8t_0rgv5qj80000gn/T/ipykernel_39178/518287087.py:2: SettingWithCopyWarning: \n",
      "A value is trying to be set on a copy of a slice from a DataFrame\n",
      "\n",
      "See the caveats in the documentation: https://pandas.pydata.org/pandas-docs/stable/user_guide/indexing.html#returning-a-view-versus-a-copy\n",
      "  tweet_text[\"sentiment\"].replace(0,\"negative\",inplace=True)\n",
      "/var/folders/gy/scg9c9b176sck8t_0rgv5qj80000gn/T/ipykernel_39178/518287087.py:3: SettingWithCopyWarning: \n",
      "A value is trying to be set on a copy of a slice from a DataFrame\n",
      "\n",
      "See the caveats in the documentation: https://pandas.pydata.org/pandas-docs/stable/user_guide/indexing.html#returning-a-view-versus-a-copy\n",
      "  tweet_text[\"sentiment\"].replace(4,\"positive\",inplace=True)\n"
     ]
    },
    {
     "data": {
      "text/plain": [
       "1096384    positive\n",
       "144957     negative\n",
       "322910     negative\n",
       "446807     negative\n",
       "174990     negative\n",
       "             ...   \n",
       "151635     negative\n",
       "1214517    positive\n",
       "708162     negative\n",
       "35240      negative\n",
       "443745     negative\n",
       "Name: sentiment, Length: 320000, dtype: object"
      ]
     },
     "execution_count": 47,
     "metadata": {},
     "output_type": "execute_result"
    }
   ],
   "source": [
    "## change the categories to their real name \n",
    "tweet_text[\"sentiment\"].replace(0,\"negative\",inplace=True)\n",
    "tweet_text[\"sentiment\"].replace(4,\"positive\",inplace=True)\n",
    "tweet_text[\"sentiment\"]\n"
   ]
  },
  {
   "cell_type": "code",
   "execution_count": 49,
   "metadata": {},
   "outputs": [
    {
     "data": {
      "text/plain": [
       "Text(0.5, 1.0, 'Dataset labels distribuition')"
      ]
     },
     "execution_count": 49,
     "metadata": {},
     "output_type": "execute_result"
    },
    {
     "data": {
      "image/png": "[encoded data removed]",
      "text/plain": [
       "<Figure size 640x480 with 1 Axes>"
      ]
     },
     "metadata": {},
     "output_type": "display_data"
    }
   ],
   "source": [
    "sns.countplot(x=\"sentiment\",data = tweet_text)\n",
    "plt.title(\"Dataset labels distribuition\")"
   ]
  },
  {
   "attachments": {},
   "cell_type": "markdown",
   "metadata": {},
   "source": [
    "In the next step we should Pre-Process the text of the tweets!"
   ]
  },
  {
   "cell_type": "code",
   "execution_count": 50,
   "metadata": {},
   "outputs": [],
   "source": [
    "stop_words = stopwords.words(\"english\")\n",
    "stemmer = SnowballStemmer(\"english\")\n",
    "\n",
    "def preprocess(text, stem=False):\n",
    "    # Remove link,user and special characters\n",
    "    # TEXT CLENAING\n",
    "    TEXT_CLEANING_RE = \"@\\S+|https?:\\S+|http?:\\S|[^A-Za-z0-9]+\"\n",
    "    text = re.sub(TEXT_CLEANING_RE, ' ', str(text).lower()).strip()\n",
    "    tokens = []\n",
    "    for token in text.split():\n",
    "        if token not in stop_words:\n",
    "            if stem:\n",
    "                tokens.append(stemmer.stem(token))\n",
    "            else:\n",
    "                tokens.append(token)\n",
    "    return \" \".join(tokens)\n"
   ]
  },
  {
   "cell_type": "code",
   "execution_count": 51,
   "metadata": {},
   "outputs": [
    {
     "name": "stderr",
     "output_type": "stream",
     "text": [
      "/var/folders/gy/scg9c9b176sck8t_0rgv5qj80000gn/T/ipykernel_39178/1619682434.py:1: SettingWithCopyWarning: \n",
      "A value is trying to be set on a copy of a slice from a DataFrame.\n",
      "Try using .loc[row_indexer,col_indexer] = value instead\n",
      "\n",
      "See the caveats in the documentation: https://pandas.pydata.org/pandas-docs/stable/user_guide/indexing.html#returning-a-view-versus-a-copy\n",
      "  tweet_text.text = tweet_text.text.apply(lambda x: preprocess(x))\n"
     ]
    }
   ],
   "source": [
    "tweet_text.text = tweet_text.text.apply(lambda x: preprocess(x))\n"
   ]
  },
  {
   "cell_type": "code",
   "execution_count": 52,
   "metadata": {},
   "outputs": [
    {
     "data": {
      "text/plain": [
       "1096384                           gg adidas sundown marathon\n",
       "144957                                              last day\n",
       "322910     sitting computer 3rd period spare kinda bored ...\n",
       "446807     could afford international rates could hear ac...\n",
       "174990                               awww lukes evicted quiz\n",
       "                                 ...                        \n",
       "151635     aww poor lizard careful might eat next time ro...\n",
       "1214517                                        bring tequila\n",
       "708162                      ew starbucks continue disappoint\n",
       "35240                                       buddy list toast\n",
       "443745     dyed hair like blacky red love may dye soon ty...\n",
       "Name: text, Length: 320000, dtype: object"
      ]
     },
     "execution_count": 52,
     "metadata": {},
     "output_type": "execute_result"
    }
   ],
   "source": [
    "tweet_text[\"text\"]\n"
   ]
  },
  {
   "cell_type": "code",
   "execution_count": 55,
   "metadata": {},
   "outputs": [
    {
     "data": {
      "text/html": [
       "<div>\n",
       "<style scoped>\n",
       "    .dataframe tbody tr th:only-of-type {\n",
       "        vertical-align: middle;\n",
       "    }\n",
       "\n",
       "    .dataframe tbody tr th {\n",
       "        vertical-align: top;\n",
       "    }\n",
       "\n",
       "    .dataframe thead th {\n",
       "        text-align: right;\n",
       "    }\n",
       "</style>\n",
       "<table border=\"1\" class=\"dataframe\">\n",
       "  <thead>\n",
       "    <tr style=\"text-align: right;\">\n",
       "      <th></th>\n",
       "      <th>text</th>\n",
       "      <th>sentiment</th>\n",
       "    </tr>\n",
       "  </thead>\n",
       "  <tbody>\n",
       "    <tr>\n",
       "      <th>263307</th>\n",
       "      <td>hope dont think creep dream last night best fr...</td>\n",
       "      <td>negative</td>\n",
       "    </tr>\n",
       "    <tr>\n",
       "      <th>786805</th>\n",
       "      <td>never managed get work without repaying</td>\n",
       "      <td>negative</td>\n",
       "    </tr>\n",
       "    <tr>\n",
       "      <th>530404</th>\n",
       "      <td>need blinn really frustrated aggressive last w...</td>\n",
       "      <td>negative</td>\n",
       "    </tr>\n",
       "    <tr>\n",
       "      <th>639720</th>\n",
       "      <td>hugs actually wanna meet bad</td>\n",
       "      <td>negative</td>\n",
       "    </tr>\n",
       "    <tr>\n",
       "      <th>176501</th>\n",
       "      <td>another david hughes list hurt davidahughes ftw</td>\n",
       "      <td>negative</td>\n",
       "    </tr>\n",
       "    <tr>\n",
       "      <th>...</th>\n",
       "      <td>...</td>\n",
       "      <td>...</td>\n",
       "    </tr>\n",
       "    <tr>\n",
       "      <th>391786</th>\n",
       "      <td>saturday go work</td>\n",
       "      <td>negative</td>\n",
       "    </tr>\n",
       "    <tr>\n",
       "      <th>1473691</th>\n",
       "      <td>tired gonna donuts breakfast</td>\n",
       "      <td>positive</td>\n",
       "    </tr>\n",
       "    <tr>\n",
       "      <th>506588</th>\n",
       "      <td>top ten tournament go distance though</td>\n",
       "      <td>negative</td>\n",
       "    </tr>\n",
       "    <tr>\n",
       "      <th>1089191</th>\n",
       "      <td>ouch well get well soon</td>\n",
       "      <td>positive</td>\n",
       "    </tr>\n",
       "    <tr>\n",
       "      <th>706755</th>\n",
       "      <td>almost nobody intimidates hairdressers always ...</td>\n",
       "      <td>negative</td>\n",
       "    </tr>\n",
       "  </tbody>\n",
       "</table>\n",
       "<p>20000 rows × 2 columns</p>\n",
       "</div>"
      ],
      "text/plain": [
       "                                                      text sentiment\n",
       "263307   hope dont think creep dream last night best fr...  negative\n",
       "786805             never managed get work without repaying  negative\n",
       "530404   need blinn really frustrated aggressive last w...  negative\n",
       "639720                        hugs actually wanna meet bad  negative\n",
       "176501     another david hughes list hurt davidahughes ftw  negative\n",
       "...                                                    ...       ...\n",
       "391786                                    saturday go work  negative\n",
       "1473691                       tired gonna donuts breakfast  positive\n",
       "506588               top ten tournament go distance though  negative\n",
       "1089191                            ouch well get well soon  positive\n",
       "706755   almost nobody intimidates hairdressers always ...  negative\n",
       "\n",
       "[20000 rows x 2 columns]"
      ]
     },
     "execution_count": 55,
     "metadata": {},
     "output_type": "execute_result"
    }
   ],
   "source": [
    "## The volume of our data is so huge and training this amount of data requires lots of memory and time so we sample our data( but for better precision we can always feed the model with our entire dataset)\n",
    "sample_negative = tweet_text[tweet_text[\"sentiment\"] == \"negative\" ][0:10000]\n",
    "sample_positive = tweet_text[tweet_text[\"sentiment\"] == \"positive\"][0:10000]\n",
    "\n",
    "## combine those two sample to create a single dataframe\n",
    "sample_tweet = pd.concat([sample_negative, sample_positive], axis=0)\n",
    "sample_tweet[\"sentiment\"].value_counts()\n",
    "\n",
    "## Now we can shuffle our data \n",
    "sample_tweet.sample(frac=1)\n"
   ]
  },
  {
   "cell_type": "code",
   "execution_count": 56,
   "metadata": {},
   "outputs": [
    {
     "data": {
      "text/plain": [
       "TfidfVectorizer()"
      ]
     },
     "execution_count": 56,
     "metadata": {},
     "output_type": "execute_result"
    }
   ],
   "source": [
    "## for starting the learning process we should vectorize the text of tweets with TFIDF we will do that.\n",
    "from sklearn.feature_extraction.text import TfidfVectorizer\n",
    "vectorizer = TfidfVectorizer()\n",
    "vectorizer.fit(sample_tweet['text'])"
   ]
  },
  {
   "cell_type": "code",
   "execution_count": 57,
   "metadata": {},
   "outputs": [],
   "source": [
    "X = vectorizer.transform(sample_tweet['text'])"
   ]
  },
  {
   "cell_type": "code",
   "execution_count": 58,
   "metadata": {},
   "outputs": [],
   "source": [
    "## The algorithm only understand digit so we should encode our target which is \"Negative\" and \"Positive\"\n",
    "from sklearn.preprocessing import LabelEncoder\n",
    "le = LabelEncoder()\n",
    "y = le.fit_transform(sample_tweet['sentiment'])\n"
   ]
  },
  {
   "cell_type": "code",
   "execution_count": 59,
   "metadata": {},
   "outputs": [
    {
     "data": {
      "text/plain": [
       "array(['negative', 'positive'], dtype=object)"
      ]
     },
     "execution_count": 59,
     "metadata": {},
     "output_type": "execute_result"
    }
   ],
   "source": [
    "le.classes_"
   ]
  },
  {
   "cell_type": "code",
   "execution_count": 60,
   "metadata": {},
   "outputs": [
    {
     "name": "stdout",
     "output_type": "stream",
     "text": [
      "(20000, 21418)\n",
      "(20000,)\n"
     ]
    }
   ],
   "source": [
    "## Lets check the size of input and output!\n",
    "import numpy as np\n",
    "print(np.shape(X))\n",
    "print(np.shape(y))\n"
   ]
  },
  {
   "cell_type": "code",
   "execution_count": 61,
   "metadata": {},
   "outputs": [],
   "source": [
    "## Now we should split our data into train and test:\n",
    "from sklearn.model_selection import train_test_split\n",
    "X_train, X_test, y_train, y_test = train_test_split(X, y,test_size=0.25)\n"
   ]
  },
  {
   "cell_type": "code",
   "execution_count": 62,
   "metadata": {},
   "outputs": [
    {
     "data": {
      "text/plain": [
       "SVC(C=1, kernel='linear', probability=True, random_state=2023)"
      ]
     },
     "execution_count": 62,
     "metadata": {},
     "output_type": "execute_result"
    }
   ],
   "source": [
    "## Now we can create our SVC model \n",
    "from sklearn import svm\n",
    "model = svm.SVC(C=1, kernel='linear', random_state=2023 ,probability=True)\n",
    "model.fit(X_train, y_train)"
   ]
  },
  {
   "cell_type": "code",
   "execution_count": 63,
   "metadata": {},
   "outputs": [
    {
     "data": {
      "text/plain": [
       "0.728"
      ]
     },
     "execution_count": 63,
     "metadata": {},
     "output_type": "execute_result"
    }
   ],
   "source": [
    "## Let's check for the precision of our model :\n",
    "model.score(X_test, y_test)\n"
   ]
  },
  {
   "attachments": {},
   "cell_type": "markdown",
   "metadata": {},
   "source": [
    "We can plot the confusion matrix as well to see where exactly our model is trained well or not."
   ]
  },
  {
   "cell_type": "code",
   "execution_count": 64,
   "metadata": {},
   "outputs": [],
   "source": [
    "## following function help us to visualize our confusion matrix\n",
    "\n",
    "import itertools\n",
    "from sklearn.metrics import classification_report, confusion_matrix\n",
    "def plot_confusion_matrix(cm, classes,\n",
    "                          title='Confusion matrix',\n",
    "                          cmap=plt.cm.Blues):\n",
    "    \"\"\"\n",
    "    This function prints and plots the confusion matrix.\n",
    "    Normalization can be applied by setting `normalize=True`.\n",
    "    \"\"\"\n",
    "\n",
    "    cm = cm.astype('float') / cm.sum(axis=1)[:, np.newaxis]\n",
    "\n",
    "    plt.imshow(cm, interpolation='nearest', cmap=cmap)\n",
    "    plt.title(title, fontsize=20)\n",
    "    plt.colorbar()\n",
    "    tick_marks = np.arange(len(classes))\n",
    "    plt.xticks(tick_marks, classes, fontsize=13)\n",
    "    plt.yticks(tick_marks, classes, fontsize=13)\n",
    "\n",
    "    fmt = '.2f'\n",
    "    thresh = cm.max() / 2.\n",
    "    for i, j in itertools.product(range(cm.shape[0]), range(cm.shape[1])):\n",
    "        plt.text(j, i, format(cm[i, j], fmt),\n",
    "                 horizontalalignment=\"center\",\n",
    "                 color=\"white\" if cm[i, j] > thresh else \"black\")\n",
    "\n",
    "    plt.ylabel('True label', fontsize=17)\n",
    "    plt.xlabel('Predicted label', fontsize=17)\n"
   ]
  },
  {
   "cell_type": "code",
   "execution_count": 65,
   "metadata": {},
   "outputs": [
    {
     "data": {
      "image/png": "[encoded data removed]",
      "text/plain": [
       "<Figure size 600x600 with 2 Axes>"
      ]
     },
     "metadata": {},
     "output_type": "display_data"
    }
   ],
   "source": [
    "y_pred = model.predict(X_test)\n",
    "cnf_matrix = confusion_matrix(y_test, y_pred)\n",
    "\n",
    "plt.figure(figsize=(6, 6))\n",
    "plot_confusion_matrix(\n",
    "    cnf_matrix, classes=tweet_text.sentiment.unique(), title=\"Confusion matrix\")\n",
    "plt.show()\n"
   ]
  },
  {
   "attachments": {},
   "cell_type": "markdown",
   "metadata": {},
   "source": [
    "Another important measurements that can help us to evaluate our model is the classification report. let's print that as well."
   ]
  },
  {
   "cell_type": "code",
   "execution_count": 66,
   "metadata": {},
   "outputs": [
    {
     "name": "stdout",
     "output_type": "stream",
     "text": [
      "              precision    recall  f1-score   support\n",
      "\n",
      "           0       0.73      0.72      0.73      2507\n",
      "           1       0.72      0.73      0.73      2493\n",
      "\n",
      "    accuracy                           0.73      5000\n",
      "   macro avg       0.73      0.73      0.73      5000\n",
      "weighted avg       0.73      0.73      0.73      5000\n",
      "\n"
     ]
    }
   ],
   "source": [
    "print(classification_report(y_test, y_pred))"
   ]
  },
  {
   "attachments": {},
   "cell_type": "markdown",
   "metadata": {},
   "source": [
    "We create our svc model with probability so now let's check what was the probability of each tweet(on tested) on being whether positive or negative!"
   ]
  },
  {
   "cell_type": "code",
   "execution_count": 68,
   "metadata": {},
   "outputs": [],
   "source": [
    "probability_results = model.predict_proba(X_test)\n",
    "prob_df = pd.DataFrame(probability_results)\n",
    "prediction_df = pd.DataFrame(y_pred)"
   ]
  },
  {
   "cell_type": "code",
   "execution_count": 69,
   "metadata": {},
   "outputs": [
    {
     "data": {
      "text/html": [
       "<div>\n",
       "<style scoped>\n",
       "    .dataframe tbody tr th:only-of-type {\n",
       "        vertical-align: middle;\n",
       "    }\n",
       "\n",
       "    .dataframe tbody tr th {\n",
       "        vertical-align: top;\n",
       "    }\n",
       "\n",
       "    .dataframe thead th {\n",
       "        text-align: right;\n",
       "    }\n",
       "</style>\n",
       "<table border=\"1\" class=\"dataframe\">\n",
       "  <thead>\n",
       "    <tr style=\"text-align: right;\">\n",
       "      <th></th>\n",
       "      <th>negative_prob</th>\n",
       "      <th>postitve_prob</th>\n",
       "      <th>predicted</th>\n",
       "    </tr>\n",
       "  </thead>\n",
       "  <tbody>\n",
       "    <tr>\n",
       "      <th>0</th>\n",
       "      <td>0.482337</td>\n",
       "      <td>0.517663</td>\n",
       "      <td>possitive</td>\n",
       "    </tr>\n",
       "    <tr>\n",
       "      <th>1</th>\n",
       "      <td>0.904190</td>\n",
       "      <td>0.095810</td>\n",
       "      <td>negative</td>\n",
       "    </tr>\n",
       "    <tr>\n",
       "      <th>2</th>\n",
       "      <td>0.524112</td>\n",
       "      <td>0.475888</td>\n",
       "      <td>negative</td>\n",
       "    </tr>\n",
       "    <tr>\n",
       "      <th>3</th>\n",
       "      <td>0.347095</td>\n",
       "      <td>0.652905</td>\n",
       "      <td>possitive</td>\n",
       "    </tr>\n",
       "    <tr>\n",
       "      <th>4</th>\n",
       "      <td>0.869053</td>\n",
       "      <td>0.130947</td>\n",
       "      <td>negative</td>\n",
       "    </tr>\n",
       "    <tr>\n",
       "      <th>...</th>\n",
       "      <td>...</td>\n",
       "      <td>...</td>\n",
       "      <td>...</td>\n",
       "    </tr>\n",
       "    <tr>\n",
       "      <th>4995</th>\n",
       "      <td>0.825918</td>\n",
       "      <td>0.174082</td>\n",
       "      <td>negative</td>\n",
       "    </tr>\n",
       "    <tr>\n",
       "      <th>4996</th>\n",
       "      <td>0.338079</td>\n",
       "      <td>0.661921</td>\n",
       "      <td>possitive</td>\n",
       "    </tr>\n",
       "    <tr>\n",
       "      <th>4997</th>\n",
       "      <td>0.756333</td>\n",
       "      <td>0.243667</td>\n",
       "      <td>negative</td>\n",
       "    </tr>\n",
       "    <tr>\n",
       "      <th>4998</th>\n",
       "      <td>0.197734</td>\n",
       "      <td>0.802266</td>\n",
       "      <td>possitive</td>\n",
       "    </tr>\n",
       "    <tr>\n",
       "      <th>4999</th>\n",
       "      <td>0.473978</td>\n",
       "      <td>0.526022</td>\n",
       "      <td>possitive</td>\n",
       "    </tr>\n",
       "  </tbody>\n",
       "</table>\n",
       "<p>5000 rows × 3 columns</p>\n",
       "</div>"
      ],
      "text/plain": [
       "      negative_prob  postitve_prob  predicted\n",
       "0          0.482337       0.517663  possitive\n",
       "1          0.904190       0.095810   negative\n",
       "2          0.524112       0.475888   negative\n",
       "3          0.347095       0.652905  possitive\n",
       "4          0.869053       0.130947   negative\n",
       "...             ...            ...        ...\n",
       "4995       0.825918       0.174082   negative\n",
       "4996       0.338079       0.661921  possitive\n",
       "4997       0.756333       0.243667   negative\n",
       "4998       0.197734       0.802266  possitive\n",
       "4999       0.473978       0.526022  possitive\n",
       "\n",
       "[5000 rows x 3 columns]"
      ]
     },
     "execution_count": 69,
     "metadata": {},
     "output_type": "execute_result"
    }
   ],
   "source": [
    "result_test = pd.concat([prob_df ,prediction_df],axis=1)\n",
    "result_test.columns = [\"negative_prob\",\"postitve_prob\",\"predicted\"]\n",
    "result_test[\"predicted\"].replace(0,\"negative\",inplace=True)\n",
    "result_test[\"predicted\"].replace(1,\"possitive\",inplace=True)\n",
    "result_test"
   ]
  },
  {
   "attachments": {},
   "cell_type": "markdown",
   "metadata": {},
   "source": [
    "As we know each Machine learning algorithm consists of many parameters and we can improve performance by choosing the best params so in the following block of code we will try to use Gridsearch to find the best parameters for our model. We should be aware that this process can be so time consuming because of different possibilities for our parameters so we only check some limited parameters in the following."
   ]
  },
  {
   "cell_type": "code",
   "execution_count": 70,
   "metadata": {},
   "outputs": [
    {
     "name": "stdout",
     "output_type": "stream",
     "text": [
      "Fitting 2 folds for each of 12 candidates, totalling 24 fits\n",
      "[CV 1/2; 1/12] START C=1, gamma=auto, kernel=linear.............................\n",
      "[CV 2/2; 1/12] START C=1, gamma=auto, kernel=linear.............................\n",
      "[CV 1/2; 2/12] START C=1, gamma=auto, kernel=rbf................................\n",
      "[CV 2/2; 2/12] START C=1, gamma=auto, kernel=rbf................................\n",
      "[CV 1/2; 1/12] END C=1, gamma=auto, kernel=linear;, score=0.718 total time=  27.1s\n",
      "[CV 2/2; 1/12] END C=1, gamma=auto, kernel=linear;, score=0.717 total time=  27.2s\n",
      "[CV 1/2; 3/12] START C=1, gamma=0.1, kernel=linear..............................\n",
      "[CV 2/2; 3/12] START C=1, gamma=0.1, kernel=linear..............................\n",
      "[CV 2/2; 2/12] END .C=1, gamma=auto, kernel=rbf;, score=0.590 total time=  38.1s\n",
      "[CV 1/2; 2/12] END .C=1, gamma=auto, kernel=rbf;, score=0.694 total time=  38.3s\n",
      "[CV 1/2; 4/12] START C=1, gamma=0.1, kernel=rbf.................................\n",
      "[CV 2/2; 4/12] START C=1, gamma=0.1, kernel=rbf.................................\n",
      "[CV 1/2; 3/12] END C=1, gamma=0.1, kernel=linear;, score=0.718 total time=  31.8s\n",
      "[CV 1/2; 5/12] START C=5, gamma=auto, kernel=linear.............................\n",
      "[CV 2/2; 3/12] END C=1, gamma=0.1, kernel=linear;, score=0.717 total time=  31.9s\n",
      "[CV 2/2; 5/12] START C=5, gamma=auto, kernel=linear.............................\n",
      "[CV 1/2; 4/12] END ..C=1, gamma=0.1, kernel=rbf;, score=0.726 total time=  41.0s\n",
      "[CV 1/2; 6/12] START C=5, gamma=auto, kernel=rbf................................\n",
      "[CV 2/2; 4/12] END ..C=1, gamma=0.1, kernel=rbf;, score=0.720 total time=  41.2s\n",
      "[CV 2/2; 6/12] START C=5, gamma=auto, kernel=rbf................................\n",
      "[CV 1/2; 5/12] END C=5, gamma=auto, kernel=linear;, score=0.702 total time=  46.5s\n",
      "[CV 1/2; 7/12] START C=5, gamma=0.1, kernel=linear..............................\n",
      "[CV 2/2; 5/12] END C=5, gamma=auto, kernel=linear;, score=0.698 total time=  56.7s\n",
      "[CV 2/2; 7/12] START C=5, gamma=0.1, kernel=linear..............................\n",
      "[CV 1/2; 6/12] END .C=5, gamma=auto, kernel=rbf;, score=0.694 total time=  41.0s\n",
      "[CV 1/2; 8/12] START C=5, gamma=0.1, kernel=rbf.................................\n",
      "[CV 2/2; 6/12] END .C=5, gamma=auto, kernel=rbf;, score=0.590 total time=  41.0s\n",
      "[CV 2/2; 8/12] START C=5, gamma=0.1, kernel=rbf.................................\n",
      "[CV 1/2; 7/12] END C=5, gamma=0.1, kernel=linear;, score=0.702 total time=  44.7s\n",
      "[CV 1/2; 9/12] START C=10, gamma=auto, kernel=linear............................\n",
      "[CV 1/2; 8/12] END ..C=5, gamma=0.1, kernel=rbf;, score=0.718 total time=  31.4s\n",
      "[CV 2/2; 9/12] START C=10, gamma=auto, kernel=linear............................\n",
      "[CV 2/2; 8/12] END ..C=5, gamma=0.1, kernel=rbf;, score=0.718 total time=  31.4s\n",
      "[CV 1/2; 10/12] START C=10, gamma=auto, kernel=rbf..............................\n",
      "[CV 2/2; 7/12] END C=5, gamma=0.1, kernel=linear;, score=0.698 total time=  46.9s\n",
      "[CV 2/2; 10/12] START C=10, gamma=auto, kernel=rbf..............................\n",
      "[CV 1/2; 10/12] END C=10, gamma=auto, kernel=rbf;, score=0.694 total time=  27.3s\n",
      "[CV 1/2; 11/12] START C=10, gamma=0.1, kernel=linear............................\n",
      "[CV 1/2; 9/12] END C=10, gamma=auto, kernel=linear;, score=0.690 total time=  35.6s\n",
      "[CV 2/2; 11/12] START C=10, gamma=0.1, kernel=linear............................\n",
      "[CV 2/2; 9/12] END C=10, gamma=auto, kernel=linear;, score=0.683 total time=  37.7s\n",
      "[CV 1/2; 12/12] START C=10, gamma=0.1, kernel=rbf...............................\n",
      "[CV 2/2; 10/12] END C=10, gamma=auto, kernel=rbf;, score=0.590 total time=  29.6s\n",
      "[CV 2/2; 12/12] START C=10, gamma=0.1, kernel=rbf...............................\n",
      "[CV 1/2; 11/12] END C=10, gamma=0.1, kernel=linear;, score=0.690 total time=  38.3s\n",
      "[CV 1/2; 12/12] END C=10, gamma=0.1, kernel=rbf;, score=0.716 total time=  28.3s\n",
      "[CV 2/2; 12/12] END C=10, gamma=0.1, kernel=rbf;, score=0.713 total time=  27.6s\n",
      "[CV 2/2; 11/12] END C=10, gamma=0.1, kernel=linear;, score=0.683 total time=  36.2s\n"
     ]
    },
    {
     "data": {
      "text/plain": [
       "GridSearchCV(cv=2, estimator=SVC(), n_jobs=-1,\n",
       "             param_grid={'C': [1, 5, 10], 'gamma': ['auto', 0.1],\n",
       "                         'kernel': ['linear', 'rbf']},\n",
       "             scoring='accuracy', verbose=10)"
      ]
     },
     "execution_count": 70,
     "metadata": {},
     "output_type": "execute_result"
    }
   ],
   "source": [
    "from sklearn.model_selection import GridSearchCV\n",
    "from sklearn.svm import SVC\n",
    "\n",
    "params = {\n",
    "    'C': [1,5,10],\n",
    "    'kernel': ['linear','rbf'],\n",
    "    'gamma': ['auto', 0.1]\n",
    "}\n",
    "gsh = GridSearchCV(SVC(), param_grid=params, scoring='accuracy', cv=2, n_jobs=-1, verbose=10)\n",
    "\n",
    "gsh.fit(X, y)"
   ]
  },
  {
   "cell_type": "code",
   "execution_count": 76,
   "metadata": {},
   "outputs": [
    {
     "data": {
      "text/plain": [
       "SVC(C=1, gamma=0.1)"
      ]
     },
     "execution_count": 76,
     "metadata": {},
     "output_type": "execute_result"
    }
   ],
   "source": [
    "## now lets see what was the params\n",
    "gsh.best_estimator_"
   ]
  },
  {
   "attachments": {},
   "cell_type": "markdown",
   "metadata": {},
   "source": [
    "In the End we save our model so we can use it later."
   ]
  },
  {
   "cell_type": "code",
   "execution_count": 71,
   "metadata": {},
   "outputs": [],
   "source": [
    "import pickle \n",
    "\n",
    "with open(\"svc_20000_sample.sentiment\",\"wb\") as f:\n",
    "    pickle.dump(model,f)\n"
   ]
  },
  {
   "attachments": {},
   "cell_type": "markdown",
   "metadata": {},
   "source": [
    "Anytime we want to use our model we can use this line of code and reload it."
   ]
  },
  {
   "cell_type": "code",
   "execution_count": 31,
   "metadata": {},
   "outputs": [],
   "source": [
    "model_svm = pickle.load(open(\"svc_80000_sample.sentiment\",\"rb\"))"
   ]
  }
 ],
 "metadata": {
  "kernelspec": {
   "display_name": "base",
   "language": "python",
   "name": "python3"
  },
  "language_info": {
   "codemirror_mode": {
    "name": "ipython",
    "version": 3
   },
   "file_extension": ".py",
   "mimetype": "text/x-python",
   "name": "python",
   "nbconvert_exporter": "python",
   "pygments_lexer": "ipython3",
   "version": "3.9.15"
  },
  "orig_nbformat": 4,
  "vscode": {
   "interpreter": {
    "hash": "ea3be26687efb83986522bbd2cd966148727cb8caef521a6884d7bd6d6fe96b8"
   }
  }
 },
 "nbformat": 4,
 "nbformat_minor": 2
}
